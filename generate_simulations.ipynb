{
 "cells": [
  {
   "cell_type": "markdown",
   "metadata": {},
   "source": [
    "# Simulating spontaneous exploration in various environments"
   ]
  },
  {
   "cell_type": "code",
   "execution_count": null,
   "metadata": {},
   "outputs": [],
   "source": [
    "import model as mdl\n",
    "import numpy as np\n",
    "import random\n",
    "\n",
    "# Fix seed\n",
    "random.seed(4444)\n",
    "\n",
    "# Default animation settings\n",
    "nsteps = 200\n",
    "dur = 0.002\n",
    "\n",
    "# Fixed parameters\n",
    "gamma = 0.8\n",
    "tau = 0.5"
   ]
  },
  {
   "cell_type": "markdown",
   "metadata": {},
   "source": [
    "# Base features\n",
    "## Random movement\n",
    "\n",
    "Just a purely random agent wandering around a grid."
   ]
  },
  {
   "cell_type": "code",
   "execution_count": null,
   "metadata": {},
   "outputs": [],
   "source": [
    "env = mdl.SandBox()\n",
    "\n",
    "env.set_parameters(beta_int=0, beta_ext_pos=0, beta_ext_neg=0) # Purely random agent\n",
    "env.simulate(nsteps=100, s0_x=env.width//2, s0_y=env.length//2)\n",
    "env.walk_gif(dur=dur, save_name='base_random')"
   ]
  },
  {
   "cell_type": "markdown",
   "metadata": {},
   "source": [
    "## Reward pursuit\n",
    "\n",
    "An agent in a reward-filled world."
   ]
  },
  {
   "cell_type": "code",
   "execution_count": null,
   "metadata": {},
   "outputs": [],
   "source": [
    "env = mdl.SandBox()\n",
    "\n",
    "# Add some rewards around the map\n",
    "env.rewards = np.tile(np.arange(env.length), (env.width, 1)) + np.tile(np.arange(env.width), (env.length, 1)).T\n",
    "\n",
    "env.set_parameters(beta_int=0, beta_ext_pos=1, beta_ext_neg=0)\n",
    "env.simulate(nsteps=100, s0_x=env.width//2, s0_y=env.length//2)\n",
    "env.walk_gif(dur=dur, save_name='base_reward')"
   ]
  },
  {
   "cell_type": "markdown",
   "metadata": {},
   "source": [
    "## Punishment avoidance\n",
    "\n",
    "An agent in a threat-filled world."
   ]
  },
  {
   "cell_type": "code",
   "execution_count": null,
   "metadata": {},
   "outputs": [],
   "source": [
    "env = mdl.SandBox()\n",
    "\n",
    "# Add some punishments around the map\n",
    "env.rewards = np.tile(np.arange(env.length), (env.width, 1)) + np.tile(np.arange(env.width), (env.length, 1)).T\n",
    "env.rewards *= -1\n",
    "\n",
    "env.set_parameters(beta_int=0, beta_ext_pos=0, beta_ext_neg=1)\n",
    "env.simulate(nsteps=100, s0_x=env.width//2, s0_y=env.length//2)\n",
    "env.walk_gif(dur=dur, save_name='base_threat')"
   ]
  },
  {
   "cell_type": "markdown",
   "metadata": {},
   "source": [
    "## Multi-dimensional worlds\n",
    "\n",
    "An agent in a reward- and threat-filled world."
   ]
  },
  {
   "cell_type": "code",
   "execution_count": null,
   "metadata": {},
   "outputs": [],
   "source": [
    "env = mdl.SandBox()\n",
    "\n",
    "# Add some rewards and punishments around the map\n",
    "env.rewards += np.tile(np.arange(env.length), (env.width, 1)) + np.tile(np.arange(env.width), (env.length, 1)).T\n",
    "env.rewards = env.rewards / env.rewards.max()\n",
    "env.rewards[env.width//2, env.width//2] = -2\n",
    "\n",
    "env.set_parameters(beta_int=0, beta_ext_pos=8, beta_ext_neg=1)\n",
    "env.simulate(nsteps=100, s0_x=0, s0_y=0)\n",
    "env.walk_gif(dur=dur, save_name='base_multi')"
   ]
  },
  {
   "cell_type": "markdown",
   "metadata": {},
   "source": [
    "## Exploration behaviour"
   ]
  },
  {
   "cell_type": "code",
   "execution_count": null,
   "metadata": {},
   "outputs": [],
   "source": [
    "# Create a maze-like environment\n",
    "env = mdl.SandBox()\n",
    "\n",
    "env.legal_states[:-3, 3] = 0\n",
    "env.legal_states[3:, 7] = 0\n",
    "env.legal_states[:-3, 11] = 0\n",
    "\n",
    "env.plot_world()"
   ]
  },
  {
   "cell_type": "code",
   "execution_count": null,
   "metadata": {},
   "outputs": [],
   "source": [
    "# Undirected exploration strategy\n",
    "env.set_parameters(beta_int=0, beta_ext_pos=0, beta_ext_neg=0) # Purely random agent\n",
    "env.simulate(nsteps=nsteps, s0_x=0, s0_y=0)\n",
    "env.walk_gif(dur=dur, save_name='base_explore_random')"
   ]
  },
  {
   "cell_type": "code",
   "execution_count": null,
   "metadata": {},
   "outputs": [],
   "source": [
    "# Directed exploration strategy\n",
    "env.set_parameters(gamma=gamma, tau=tau, beta_int=10, beta_ext_pos=0, beta_ext_neg=0) # Intrinsically-motivated agent\n",
    "env.simulate(nsteps=nsteps, s0_x=0, s0_y=0)\n",
    "env.walk_gif(dur=dur, save_name='base_explore')"
   ]
  },
  {
   "cell_type": "markdown",
   "metadata": {},
   "source": [
    "# The Open Field Test"
   ]
  },
  {
   "cell_type": "markdown",
   "metadata": {},
   "source": [
    "## Environmental feature map"
   ]
  },
  {
   "cell_type": "code",
   "execution_count": null,
   "metadata": {},
   "outputs": [],
   "source": [
    "env = mdl.OpenFieldTest()\n",
    "env.plot_features()\n",
    "g = env.plot_world()\n",
    "g.get_figure().savefig(\"images/oft_Vmap.png\")\n",
    "print(g)"
   ]
  },
  {
   "cell_type": "markdown",
   "metadata": {},
   "source": [
    "## Comparing avoidant vs non-avoidant agents"
   ]
  },
  {
   "cell_type": "code",
   "execution_count": null,
   "metadata": {},
   "outputs": [],
   "source": [
    "# Non-avoidant agent\n",
    "env.set_parameters(gamma=gamma, tau=tau, beta_int=5, beta_ext_neg=0)\n",
    "env.simulate(nsteps=nsteps, s0_x=0, s0_y=0)\n",
    "env.walk_gif(dur=dur, save_name='oft_nonavoidant', show_features=False)"
   ]
  },
  {
   "cell_type": "code",
   "execution_count": null,
   "metadata": {},
   "outputs": [],
   "source": [
    "# Avoidant agent\n",
    "env.set_parameters(gamma=gamma, tau=tau, beta_int=5, beta_ext_neg=8)\n",
    "env.simulate(nsteps=nsteps, s0_x=0, s0_y=0)\n",
    "env.walk_gif(dur=dur, save_name='oft_avoidant', show_features=False)"
   ]
  },
  {
   "cell_type": "markdown",
   "metadata": {},
   "source": [
    "# The Light Dark Box"
   ]
  },
  {
   "cell_type": "markdown",
   "metadata": {},
   "source": [
    "## Environmental feature map"
   ]
  },
  {
   "cell_type": "code",
   "execution_count": null,
   "metadata": {},
   "outputs": [],
   "source": [
    "env = mdl.LightDarkBox()\n",
    "env.plot_features()\n",
    "g = env.plot_world()\n",
    "g.get_figure().savefig(\"images/ldb_Vmap.png\")\n",
    "print(g)"
   ]
  },
  {
   "cell_type": "markdown",
   "metadata": {},
   "source": [
    "## Comparing avoidant vs non-avoidant agents"
   ]
  },
  {
   "cell_type": "code",
   "execution_count": null,
   "metadata": {},
   "outputs": [],
   "source": [
    "# Non-avoidant agent\n",
    "env.set_parameters(gamma=gamma, tau=tau, beta_int=5, beta_ext_neg=0)\n",
    "env.simulate(nsteps=nsteps, s0_x=0, s0_y=0)\n",
    "env.walk_gif(dur=dur, save_name='ldb_nonavoidant', show_features=False)"
   ]
  },
  {
   "cell_type": "code",
   "execution_count": null,
   "metadata": {},
   "outputs": [],
   "source": [
    "# Avoidant agent\n",
    "env.set_parameters(gamma=gamma, tau=tau, beta_int=5, beta_ext_neg=8)\n",
    "env.simulate(nsteps=nsteps, s0_x=0, s0_y=0)\n",
    "env.walk_gif(dur=dur, save_name='ldb_avoidant', show_features=False)"
   ]
  },
  {
   "cell_type": "markdown",
   "metadata": {},
   "source": [
    "# The Elevated Plus Maze"
   ]
  },
  {
   "cell_type": "markdown",
   "metadata": {},
   "source": [
    "## Environmental feature map"
   ]
  },
  {
   "cell_type": "code",
   "execution_count": null,
   "metadata": {},
   "outputs": [],
   "source": [
    "env = mdl.ElevatedPlusMaze()\n",
    "env.plot_features()\n",
    "g = env.plot_world()\n",
    "g.get_figure().savefig(\"images/epm_Vmap.png\")\n",
    "print(g)"
   ]
  },
  {
   "cell_type": "markdown",
   "metadata": {},
   "source": [
    "## Comparing avoidant vs non-avoidant agents"
   ]
  },
  {
   "cell_type": "code",
   "execution_count": null,
   "metadata": {},
   "outputs": [],
   "source": [
    "# Non-avoidant agent\n",
    "env.set_parameters(gamma=gamma, tau=tau, beta_int=5, beta_ext_neg=0)\n",
    "env.simulate(nsteps=nsteps, s0_x=env.width//2, s0_y=env.length//2)\n",
    "env.walk_gif(dur=dur, save_name='epm_nonavoidant', show_features=False)"
   ]
  },
  {
   "cell_type": "code",
   "execution_count": null,
   "metadata": {},
   "outputs": [],
   "source": [
    "# Avoidant agent\n",
    "env.set_parameters(gamma=gamma, tau=tau, beta_int=5, beta_ext_neg=8)\n",
    "env.simulate(nsteps=nsteps, s0_x=env.width//2, s0_y=env.length//2)\n",
    "env.walk_gif(dur=dur, save_name='epm_avoidant', show_features=False)"
   ]
  }
 ],
 "metadata": {
  "kernelspec": {
   "display_name": ".venv",
   "language": "python",
   "name": "python3"
  },
  "language_info": {
   "codemirror_mode": {
    "name": "ipython",
    "version": 3
   },
   "file_extension": ".py",
   "mimetype": "text/x-python",
   "name": "python",
   "nbconvert_exporter": "python",
   "pygments_lexer": "ipython3",
   "version": "3.10.1"
  }
 },
 "nbformat": 4,
 "nbformat_minor": 2
}
